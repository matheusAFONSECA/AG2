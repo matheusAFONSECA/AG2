{
 "cells": [
  {
   "cell_type": "markdown",
   "metadata": {},
   "source": [
    "## DOWLOAD DE BIBLIOTECAS"
   ]
  },
  {
   "cell_type": "code",
   "execution_count": 67,
   "metadata": {},
   "outputs": [
    {
     "name": "stdout",
     "output_type": "stream",
     "text": [
      "Requirement already satisfied: asttokens==2.4.1 in c:\\users\\ogabriel\\desktop\\p7\\ag2\\.venv\\lib\\site-packages (from -r requirements.txt (line 1)) (2.4.1)\n",
      "Requirement already satisfied: colorama==0.4.6 in c:\\users\\ogabriel\\desktop\\p7\\ag2\\.venv\\lib\\site-packages (from -r requirements.txt (line 2)) (0.4.6)\n",
      "Requirement already satisfied: comm==0.2.2 in c:\\users\\ogabriel\\desktop\\p7\\ag2\\.venv\\lib\\site-packages (from -r requirements.txt (line 3)) (0.2.2)\n",
      "Requirement already satisfied: contourpy==1.2.1 in c:\\users\\ogabriel\\desktop\\p7\\ag2\\.venv\\lib\\site-packages (from -r requirements.txt (line 4)) (1.2.1)\n",
      "Requirement already satisfied: cycler==0.12.1 in c:\\users\\ogabriel\\desktop\\p7\\ag2\\.venv\\lib\\site-packages (from -r requirements.txt (line 5)) (0.12.1)\n",
      "Requirement already satisfied: debugpy==1.8.1 in c:\\users\\ogabriel\\desktop\\p7\\ag2\\.venv\\lib\\site-packages (from -r requirements.txt (line 6)) (1.8.1)\n",
      "Requirement already satisfied: decorator==5.1.1 in c:\\users\\ogabriel\\desktop\\p7\\ag2\\.venv\\lib\\site-packages (from -r requirements.txt (line 7)) (5.1.1)\n",
      "Requirement already satisfied: executing==2.0.1 in c:\\users\\ogabriel\\desktop\\p7\\ag2\\.venv\\lib\\site-packages (from -r requirements.txt (line 8)) (2.0.1)\n",
      "Requirement already satisfied: fonttools==4.53.0 in c:\\users\\ogabriel\\desktop\\p7\\ag2\\.venv\\lib\\site-packages (from -r requirements.txt (line 9)) (4.53.0)\n",
      "Requirement already satisfied: ipykernel==6.29.4 in c:\\users\\ogabriel\\desktop\\p7\\ag2\\.venv\\lib\\site-packages (from -r requirements.txt (line 10)) (6.29.4)\n",
      "Requirement already satisfied: ipython==8.25.0 in c:\\users\\ogabriel\\desktop\\p7\\ag2\\.venv\\lib\\site-packages (from -r requirements.txt (line 11)) (8.25.0)\n",
      "Requirement already satisfied: jedi==0.19.1 in c:\\users\\ogabriel\\desktop\\p7\\ag2\\.venv\\lib\\site-packages (from -r requirements.txt (line 12)) (0.19.1)\n",
      "Requirement already satisfied: joblib==1.4.2 in c:\\users\\ogabriel\\desktop\\p7\\ag2\\.venv\\lib\\site-packages (from -r requirements.txt (line 13)) (1.4.2)\n",
      "Requirement already satisfied: jupyter_client==8.6.2 in c:\\users\\ogabriel\\desktop\\p7\\ag2\\.venv\\lib\\site-packages (from -r requirements.txt (line 14)) (8.6.2)\n",
      "Requirement already satisfied: jupyter_core==5.7.2 in c:\\users\\ogabriel\\desktop\\p7\\ag2\\.venv\\lib\\site-packages (from -r requirements.txt (line 15)) (5.7.2)\n",
      "Requirement already satisfied: kiwisolver==1.4.5 in c:\\users\\ogabriel\\desktop\\p7\\ag2\\.venv\\lib\\site-packages (from -r requirements.txt (line 16)) (1.4.5)\n",
      "Requirement already satisfied: matplotlib==3.9.0 in c:\\users\\ogabriel\\desktop\\p7\\ag2\\.venv\\lib\\site-packages (from -r requirements.txt (line 17)) (3.9.0)\n",
      "Requirement already satisfied: matplotlib-inline==0.1.7 in c:\\users\\ogabriel\\desktop\\p7\\ag2\\.venv\\lib\\site-packages (from -r requirements.txt (line 18)) (0.1.7)\n",
      "Requirement already satisfied: nest-asyncio==1.6.0 in c:\\users\\ogabriel\\desktop\\p7\\ag2\\.venv\\lib\\site-packages (from -r requirements.txt (line 19)) (1.6.0)\n",
      "Requirement already satisfied: numpy==1.26.4 in c:\\users\\ogabriel\\desktop\\p7\\ag2\\.venv\\lib\\site-packages (from -r requirements.txt (line 20)) (1.26.4)\n",
      "Requirement already satisfied: packaging==24.0 in c:\\users\\ogabriel\\desktop\\p7\\ag2\\.venv\\lib\\site-packages (from -r requirements.txt (line 21)) (24.0)\n",
      "Requirement already satisfied: pandas==2.2.2 in c:\\users\\ogabriel\\desktop\\p7\\ag2\\.venv\\lib\\site-packages (from -r requirements.txt (line 22)) (2.2.2)\n",
      "Requirement already satisfied: parso==0.8.4 in c:\\users\\ogabriel\\desktop\\p7\\ag2\\.venv\\lib\\site-packages (from -r requirements.txt (line 23)) (0.8.4)\n",
      "Requirement already satisfied: pillow==10.3.0 in c:\\users\\ogabriel\\desktop\\p7\\ag2\\.venv\\lib\\site-packages (from -r requirements.txt (line 24)) (10.3.0)\n",
      "Requirement already satisfied: platformdirs==4.2.2 in c:\\users\\ogabriel\\desktop\\p7\\ag2\\.venv\\lib\\site-packages (from -r requirements.txt (line 25)) (4.2.2)\n",
      "Requirement already satisfied: prompt_toolkit==3.0.46 in c:\\users\\ogabriel\\desktop\\p7\\ag2\\.venv\\lib\\site-packages (from -r requirements.txt (line 26)) (3.0.46)\n",
      "Requirement already satisfied: psutil==5.9.8 in c:\\users\\ogabriel\\desktop\\p7\\ag2\\.venv\\lib\\site-packages (from -r requirements.txt (line 27)) (5.9.8)\n",
      "Requirement already satisfied: pure-eval==0.2.2 in c:\\users\\ogabriel\\desktop\\p7\\ag2\\.venv\\lib\\site-packages (from -r requirements.txt (line 28)) (0.2.2)\n",
      "Requirement already satisfied: Pygments==2.18.0 in c:\\users\\ogabriel\\desktop\\p7\\ag2\\.venv\\lib\\site-packages (from -r requirements.txt (line 29)) (2.18.0)\n",
      "Requirement already satisfied: pyparsing==3.1.2 in c:\\users\\ogabriel\\desktop\\p7\\ag2\\.venv\\lib\\site-packages (from -r requirements.txt (line 30)) (3.1.2)\n",
      "Requirement already satisfied: python-dateutil==2.9.0.post0 in c:\\users\\ogabriel\\desktop\\p7\\ag2\\.venv\\lib\\site-packages (from -r requirements.txt (line 31)) (2.9.0.post0)\n",
      "Requirement already satisfied: pytz==2024.1 in c:\\users\\ogabriel\\desktop\\p7\\ag2\\.venv\\lib\\site-packages (from -r requirements.txt (line 32)) (2024.1)\n",
      "Requirement already satisfied: pywin32==306 in c:\\users\\ogabriel\\desktop\\p7\\ag2\\.venv\\lib\\site-packages (from -r requirements.txt (line 33)) (306)\n",
      "Requirement already satisfied: pyzmq==26.0.3 in c:\\users\\ogabriel\\desktop\\p7\\ag2\\.venv\\lib\\site-packages (from -r requirements.txt (line 34)) (26.0.3)\n",
      "Requirement already satisfied: scikit-learn==1.5.0 in c:\\users\\ogabriel\\desktop\\p7\\ag2\\.venv\\lib\\site-packages (from -r requirements.txt (line 35)) (1.5.0)\n",
      "Requirement already satisfied: scipy==1.13.1 in c:\\users\\ogabriel\\desktop\\p7\\ag2\\.venv\\lib\\site-packages (from -r requirements.txt (line 36)) (1.13.1)\n",
      "Requirement already satisfied: six==1.16.0 in c:\\users\\ogabriel\\desktop\\p7\\ag2\\.venv\\lib\\site-packages (from -r requirements.txt (line 37)) (1.16.0)\n",
      "Requirement already satisfied: stack-data==0.6.3 in c:\\users\\ogabriel\\desktop\\p7\\ag2\\.venv\\lib\\site-packages (from -r requirements.txt (line 38)) (0.6.3)\n",
      "Requirement already satisfied: threadpoolctl==3.5.0 in c:\\users\\ogabriel\\desktop\\p7\\ag2\\.venv\\lib\\site-packages (from -r requirements.txt (line 39)) (3.5.0)\n",
      "Requirement already satisfied: tornado==6.4 in c:\\users\\ogabriel\\desktop\\p7\\ag2\\.venv\\lib\\site-packages (from -r requirements.txt (line 40)) (6.4)\n",
      "Requirement already satisfied: traitlets==5.14.3 in c:\\users\\ogabriel\\desktop\\p7\\ag2\\.venv\\lib\\site-packages (from -r requirements.txt (line 41)) (5.14.3)\n",
      "Requirement already satisfied: typing_extensions==4.12.1 in c:\\users\\ogabriel\\desktop\\p7\\ag2\\.venv\\lib\\site-packages (from -r requirements.txt (line 42)) (4.12.1)\n",
      "Requirement already satisfied: tzdata==2024.1 in c:\\users\\ogabriel\\desktop\\p7\\ag2\\.venv\\lib\\site-packages (from -r requirements.txt (line 43)) (2024.1)\n",
      "Requirement already satisfied: wcwidth==0.2.13 in c:\\users\\ogabriel\\desktop\\p7\\ag2\\.venv\\lib\\site-packages (from -r requirements.txt (line 44)) (0.2.13)\n",
      "Note: you may need to restart the kernel to use updated packages.\n"
     ]
    }
   ],
   "source": [
    "\n",
    "%pip install -r requirements.txt"
   ]
  },
  {
   "cell_type": "markdown",
   "metadata": {},
   "source": [
    "## IMPORTAÇÃO DE BIBLIOTECAS"
   ]
  },
  {
   "cell_type": "code",
   "execution_count": 68,
   "metadata": {},
   "outputs": [],
   "source": [
    "# trabalhar com dados\n",
    "import pandas as pd\n",
    "\n",
    "# separação dos dados do dados para treinamento\n",
    "from sklearn.model_selection import train_test_split\n",
    "\n",
    "# avaliação de metricas\n",
    "from sklearn.metrics import accuracy_score\n",
    "from sklearn.metrics import classification_report\n",
    "\n",
    "# Importação da biblioteca para a criação do modelo de classificação\n",
    "from sklearn.tree import DecisionTreeClassifier\n",
    "\n",
    "# plotar gráficos\n",
    "import matplotlib.pyplot as plt"
   ]
  },
  {
   "cell_type": "markdown",
   "metadata": {},
   "source": [
    "## LEITURA DE DADOS E ORGANIZAÇÃO DOS MESMOS"
   ]
  },
  {
   "cell_type": "markdown",
   "metadata": {},
   "source": [
    "### Leitura de dados:"
   ]
  },
  {
   "cell_type": "code",
   "execution_count": 69,
   "metadata": {},
   "outputs": [],
   "source": [
    "dataset = pd.read_csv(\"palmerpenguins.csv\")"
   ]
  },
  {
   "cell_type": "markdown",
   "metadata": {},
   "source": [
    "### Mostrando como estão os dados antes de serem organizados"
   ]
  },
  {
   "cell_type": "code",
   "execution_count": 70,
   "metadata": {},
   "outputs": [
    {
     "data": {
      "text/html": [
       "<div>\n",
       "<style scoped>\n",
       "    .dataframe tbody tr th:only-of-type {\n",
       "        vertical-align: middle;\n",
       "    }\n",
       "\n",
       "    .dataframe tbody tr th {\n",
       "        vertical-align: top;\n",
       "    }\n",
       "\n",
       "    .dataframe thead th {\n",
       "        text-align: right;\n",
       "    }\n",
       "</style>\n",
       "<table border=\"1\" class=\"dataframe\">\n",
       "  <thead>\n",
       "    <tr style=\"text-align: right;\">\n",
       "      <th></th>\n",
       "      <th>species</th>\n",
       "      <th>island</th>\n",
       "      <th>culmen_length_mm</th>\n",
       "      <th>culmen_depth_mm</th>\n",
       "      <th>flipper_length_mm</th>\n",
       "      <th>body_mass_g</th>\n",
       "      <th>sex</th>\n",
       "    </tr>\n",
       "  </thead>\n",
       "  <tbody>\n",
       "    <tr>\n",
       "      <th>0</th>\n",
       "      <td>Adelie</td>\n",
       "      <td>Torgersen</td>\n",
       "      <td>39.1</td>\n",
       "      <td>18.7</td>\n",
       "      <td>181</td>\n",
       "      <td>3750</td>\n",
       "      <td>MALE</td>\n",
       "    </tr>\n",
       "    <tr>\n",
       "      <th>1</th>\n",
       "      <td>Adelie</td>\n",
       "      <td>Torgersen</td>\n",
       "      <td>39.5</td>\n",
       "      <td>17.4</td>\n",
       "      <td>186</td>\n",
       "      <td>3800</td>\n",
       "      <td>FEMALE</td>\n",
       "    </tr>\n",
       "    <tr>\n",
       "      <th>2</th>\n",
       "      <td>Adelie</td>\n",
       "      <td>Torgersen</td>\n",
       "      <td>40.3</td>\n",
       "      <td>18.0</td>\n",
       "      <td>195</td>\n",
       "      <td>3250</td>\n",
       "      <td>FEMALE</td>\n",
       "    </tr>\n",
       "    <tr>\n",
       "      <th>3</th>\n",
       "      <td>Adelie</td>\n",
       "      <td>Torgersen</td>\n",
       "      <td>36.7</td>\n",
       "      <td>19.3</td>\n",
       "      <td>193</td>\n",
       "      <td>3450</td>\n",
       "      <td>FEMALE</td>\n",
       "    </tr>\n",
       "    <tr>\n",
       "      <th>4</th>\n",
       "      <td>Adelie</td>\n",
       "      <td>Torgersen</td>\n",
       "      <td>39.3</td>\n",
       "      <td>20.6</td>\n",
       "      <td>190</td>\n",
       "      <td>3650</td>\n",
       "      <td>MALE</td>\n",
       "    </tr>\n",
       "  </tbody>\n",
       "</table>\n",
       "</div>"
      ],
      "text/plain": [
       "  species     island  culmen_length_mm  culmen_depth_mm  flipper_length_mm  \\\n",
       "0  Adelie  Torgersen              39.1             18.7                181   \n",
       "1  Adelie  Torgersen              39.5             17.4                186   \n",
       "2  Adelie  Torgersen              40.3             18.0                195   \n",
       "3  Adelie  Torgersen              36.7             19.3                193   \n",
       "4  Adelie  Torgersen              39.3             20.6                190   \n",
       "\n",
       "   body_mass_g     sex  \n",
       "0         3750    MALE  \n",
       "1         3800  FEMALE  \n",
       "2         3250  FEMALE  \n",
       "3         3450  FEMALE  \n",
       "4         3650    MALE  "
      ]
     },
     "execution_count": 70,
     "metadata": {},
     "output_type": "execute_result"
    }
   ],
   "source": [
    "dataset.head()"
   ]
  },
  {
   "cell_type": "markdown",
   "metadata": {},
   "source": [
    "### Convertendo os valores presentes na coluna 'island' para números inteiros, de acordo com o mapeamento"
   ]
  },
  {
   "cell_type": "code",
   "execution_count": 71,
   "metadata": {},
   "outputs": [
    {
     "name": "stderr",
     "output_type": "stream",
     "text": [
      "C:\\Users\\oGabriel\\AppData\\Local\\Temp\\ipykernel_22776\\2478089743.py:1: FutureWarning: Downcasting behavior in `replace` is deprecated and will be removed in a future version. To retain the old behavior, explicitly call `result.infer_objects(copy=False)`. To opt-in to the future behavior, set `pd.set_option('future.no_silent_downcasting', True)`\n",
      "  dataset['island'] = dataset['island'].replace({\n",
      "C:\\Users\\oGabriel\\AppData\\Local\\Temp\\ipykernel_22776\\2478089743.py:7: FutureWarning: Downcasting behavior in `replace` is deprecated and will be removed in a future version. To retain the old behavior, explicitly call `result.infer_objects(copy=False)`. To opt-in to the future behavior, set `pd.set_option('future.no_silent_downcasting', True)`\n",
      "  dataset['sex'] = dataset['sex'].replace({\n",
      "C:\\Users\\oGabriel\\AppData\\Local\\Temp\\ipykernel_22776\\2478089743.py:12: FutureWarning: Downcasting behavior in `replace` is deprecated and will be removed in a future version. To retain the old behavior, explicitly call `result.infer_objects(copy=False)`. To opt-in to the future behavior, set `pd.set_option('future.no_silent_downcasting', True)`\n",
      "  dataset['species'] = dataset['species'].replace({\n"
     ]
    }
   ],
   "source": [
    "dataset['island'] = dataset['island'].replace({\n",
    "    \"Biscoe\": 0,\n",
    "    \"Dream\": 1,\n",
    "    \"Torgersen\": 2\n",
    "})\n",
    "\n",
    "dataset['sex'] = dataset['sex'].replace({\n",
    "    \"FEMALE\": 0,\n",
    "    \"MALE\": 1\n",
    "})\n",
    "\n",
    "dataset['species'] = dataset['species'].replace({\n",
    "    \"Adelie\": 0,\n",
    "    \"Chinstrap\": 1,\n",
    "    \"Gentoo\": 2\n",
    "})"
   ]
  },
  {
   "cell_type": "markdown",
   "metadata": {},
   "source": [
    "### Reordenando as colunas do conjunto de dados"
   ]
  },
  {
   "cell_type": "code",
   "execution_count": 72,
   "metadata": {},
   "outputs": [],
   "source": [
    "new_col_order = ['island', 'sex', 'culmen_length_mm', 'culmen_depth_mm', 'flipper_length_mm', 'body_mass_g', 'species']\n",
    "dataset = dataset.reindex(columns=new_col_order)"
   ]
  },
  {
   "cell_type": "markdown",
   "metadata": {},
   "source": [
    "### Dados após ordenação"
   ]
  },
  {
   "cell_type": "code",
   "execution_count": 73,
   "metadata": {},
   "outputs": [
    {
     "data": {
      "text/html": [
       "<div>\n",
       "<style scoped>\n",
       "    .dataframe tbody tr th:only-of-type {\n",
       "        vertical-align: middle;\n",
       "    }\n",
       "\n",
       "    .dataframe tbody tr th {\n",
       "        vertical-align: top;\n",
       "    }\n",
       "\n",
       "    .dataframe thead th {\n",
       "        text-align: right;\n",
       "    }\n",
       "</style>\n",
       "<table border=\"1\" class=\"dataframe\">\n",
       "  <thead>\n",
       "    <tr style=\"text-align: right;\">\n",
       "      <th></th>\n",
       "      <th>island</th>\n",
       "      <th>sex</th>\n",
       "      <th>culmen_length_mm</th>\n",
       "      <th>culmen_depth_mm</th>\n",
       "      <th>flipper_length_mm</th>\n",
       "      <th>body_mass_g</th>\n",
       "      <th>species</th>\n",
       "    </tr>\n",
       "  </thead>\n",
       "  <tbody>\n",
       "    <tr>\n",
       "      <th>0</th>\n",
       "      <td>2</td>\n",
       "      <td>1</td>\n",
       "      <td>39.1</td>\n",
       "      <td>18.7</td>\n",
       "      <td>181</td>\n",
       "      <td>3750</td>\n",
       "      <td>0</td>\n",
       "    </tr>\n",
       "    <tr>\n",
       "      <th>1</th>\n",
       "      <td>2</td>\n",
       "      <td>0</td>\n",
       "      <td>39.5</td>\n",
       "      <td>17.4</td>\n",
       "      <td>186</td>\n",
       "      <td>3800</td>\n",
       "      <td>0</td>\n",
       "    </tr>\n",
       "    <tr>\n",
       "      <th>2</th>\n",
       "      <td>2</td>\n",
       "      <td>0</td>\n",
       "      <td>40.3</td>\n",
       "      <td>18.0</td>\n",
       "      <td>195</td>\n",
       "      <td>3250</td>\n",
       "      <td>0</td>\n",
       "    </tr>\n",
       "    <tr>\n",
       "      <th>3</th>\n",
       "      <td>2</td>\n",
       "      <td>0</td>\n",
       "      <td>36.7</td>\n",
       "      <td>19.3</td>\n",
       "      <td>193</td>\n",
       "      <td>3450</td>\n",
       "      <td>0</td>\n",
       "    </tr>\n",
       "    <tr>\n",
       "      <th>4</th>\n",
       "      <td>2</td>\n",
       "      <td>1</td>\n",
       "      <td>39.3</td>\n",
       "      <td>20.6</td>\n",
       "      <td>190</td>\n",
       "      <td>3650</td>\n",
       "      <td>0</td>\n",
       "    </tr>\n",
       "  </tbody>\n",
       "</table>\n",
       "</div>"
      ],
      "text/plain": [
       "   island  sex  culmen_length_mm  culmen_depth_mm  flipper_length_mm  \\\n",
       "0       2    1              39.1             18.7                181   \n",
       "1       2    0              39.5             17.4                186   \n",
       "2       2    0              40.3             18.0                195   \n",
       "3       2    0              36.7             19.3                193   \n",
       "4       2    1              39.3             20.6                190   \n",
       "\n",
       "   body_mass_g  species  \n",
       "0         3750        0  \n",
       "1         3800        0  \n",
       "2         3250        0  \n",
       "3         3450        0  \n",
       "4         3650        0  "
      ]
     },
     "execution_count": 73,
     "metadata": {},
     "output_type": "execute_result"
    }
   ],
   "source": [
    "dataset.head()"
   ]
  },
  {
   "cell_type": "markdown",
   "metadata": {},
   "source": [
    "## REALIZANDO O TREINAMENTO"
   ]
  },
  {
   "cell_type": "markdown",
   "metadata": {},
   "source": [
    "### Separando o conjunto de dados em duas partes:  80% para treinamento e 20% para testes"
   ]
  },
  {
   "cell_type": "code",
   "execution_count": 74,
   "metadata": {},
   "outputs": [
    {
     "name": "stdout",
     "output_type": "stream",
     "text": [
      "Tamanho X de treino: (266, 6)\n",
      "Tamanho X de teste: (67, 6)\n",
      "Tamanho y de treino: (266,)\n",
      "Tamanho y de teste: (67,)\n"
     ]
    }
   ],
   "source": [
    "X = dataset.drop(columns=['species']) # features\n",
    "y = dataset['species'] # target\n",
    "X_train, X_test, y_train, y_test = train_test_split(X, y, test_size=0.2, random_state = 0)\n",
    "print(f\"Tamanho X de treino: {X_train.shape}\")\n",
    "print(f\"Tamanho X de teste: {X_test.shape}\")\n",
    "print(f\"Tamanho y de treino: {y_train.shape}\")\n",
    "print(f\"Tamanho y de teste: {y_test.shape}\")"
   ]
  },
  {
   "cell_type": "markdown",
   "metadata": {},
   "source": [
    "### MODELO DE CLASSIFICAÇÃO ESCOLHIDO É O DECISION TREE (Árvore de Decisão)"
   ]
  },
  {
   "cell_type": "code",
   "execution_count": 75,
   "metadata": {},
   "outputs": [],
   "source": [
    "# instanciando o modelo\n",
    "tree = DecisionTreeClassifier()"
   ]
  },
  {
   "cell_type": "markdown",
   "metadata": {},
   "source": [
    "### TREINANDO O MODELO"
   ]
  },
  {
   "cell_type": "code",
   "execution_count": 76,
   "metadata": {},
   "outputs": [
    {
     "data": {
      "text/html": [
       "<style>#sk-container-id-5 {\n",
       "  /* Definition of color scheme common for light and dark mode */\n",
       "  --sklearn-color-text: black;\n",
       "  --sklearn-color-line: gray;\n",
       "  /* Definition of color scheme for unfitted estimators */\n",
       "  --sklearn-color-unfitted-level-0: #fff5e6;\n",
       "  --sklearn-color-unfitted-level-1: #f6e4d2;\n",
       "  --sklearn-color-unfitted-level-2: #ffe0b3;\n",
       "  --sklearn-color-unfitted-level-3: chocolate;\n",
       "  /* Definition of color scheme for fitted estimators */\n",
       "  --sklearn-color-fitted-level-0: #f0f8ff;\n",
       "  --sklearn-color-fitted-level-1: #d4ebff;\n",
       "  --sklearn-color-fitted-level-2: #b3dbfd;\n",
       "  --sklearn-color-fitted-level-3: cornflowerblue;\n",
       "\n",
       "  /* Specific color for light theme */\n",
       "  --sklearn-color-text-on-default-background: var(--sg-text-color, var(--theme-code-foreground, var(--jp-content-font-color1, black)));\n",
       "  --sklearn-color-background: var(--sg-background-color, var(--theme-background, var(--jp-layout-color0, white)));\n",
       "  --sklearn-color-border-box: var(--sg-text-color, var(--theme-code-foreground, var(--jp-content-font-color1, black)));\n",
       "  --sklearn-color-icon: #696969;\n",
       "\n",
       "  @media (prefers-color-scheme: dark) {\n",
       "    /* Redefinition of color scheme for dark theme */\n",
       "    --sklearn-color-text-on-default-background: var(--sg-text-color, var(--theme-code-foreground, var(--jp-content-font-color1, white)));\n",
       "    --sklearn-color-background: var(--sg-background-color, var(--theme-background, var(--jp-layout-color0, #111)));\n",
       "    --sklearn-color-border-box: var(--sg-text-color, var(--theme-code-foreground, var(--jp-content-font-color1, white)));\n",
       "    --sklearn-color-icon: #878787;\n",
       "  }\n",
       "}\n",
       "\n",
       "#sk-container-id-5 {\n",
       "  color: var(--sklearn-color-text);\n",
       "}\n",
       "\n",
       "#sk-container-id-5 pre {\n",
       "  padding: 0;\n",
       "}\n",
       "\n",
       "#sk-container-id-5 input.sk-hidden--visually {\n",
       "  border: 0;\n",
       "  clip: rect(1px 1px 1px 1px);\n",
       "  clip: rect(1px, 1px, 1px, 1px);\n",
       "  height: 1px;\n",
       "  margin: -1px;\n",
       "  overflow: hidden;\n",
       "  padding: 0;\n",
       "  position: absolute;\n",
       "  width: 1px;\n",
       "}\n",
       "\n",
       "#sk-container-id-5 div.sk-dashed-wrapped {\n",
       "  border: 1px dashed var(--sklearn-color-line);\n",
       "  margin: 0 0.4em 0.5em 0.4em;\n",
       "  box-sizing: border-box;\n",
       "  padding-bottom: 0.4em;\n",
       "  background-color: var(--sklearn-color-background);\n",
       "}\n",
       "\n",
       "#sk-container-id-5 div.sk-container {\n",
       "  /* jupyter's `normalize.less` sets `[hidden] { display: none; }`\n",
       "     but bootstrap.min.css set `[hidden] { display: none !important; }`\n",
       "     so we also need the `!important` here to be able to override the\n",
       "     default hidden behavior on the sphinx rendered scikit-learn.org.\n",
       "     See: https://github.com/scikit-learn/scikit-learn/issues/21755 */\n",
       "  display: inline-block !important;\n",
       "  position: relative;\n",
       "}\n",
       "\n",
       "#sk-container-id-5 div.sk-text-repr-fallback {\n",
       "  display: none;\n",
       "}\n",
       "\n",
       "div.sk-parallel-item,\n",
       "div.sk-serial,\n",
       "div.sk-item {\n",
       "  /* draw centered vertical line to link estimators */\n",
       "  background-image: linear-gradient(var(--sklearn-color-text-on-default-background), var(--sklearn-color-text-on-default-background));\n",
       "  background-size: 2px 100%;\n",
       "  background-repeat: no-repeat;\n",
       "  background-position: center center;\n",
       "}\n",
       "\n",
       "/* Parallel-specific style estimator block */\n",
       "\n",
       "#sk-container-id-5 div.sk-parallel-item::after {\n",
       "  content: \"\";\n",
       "  width: 100%;\n",
       "  border-bottom: 2px solid var(--sklearn-color-text-on-default-background);\n",
       "  flex-grow: 1;\n",
       "}\n",
       "\n",
       "#sk-container-id-5 div.sk-parallel {\n",
       "  display: flex;\n",
       "  align-items: stretch;\n",
       "  justify-content: center;\n",
       "  background-color: var(--sklearn-color-background);\n",
       "  position: relative;\n",
       "}\n",
       "\n",
       "#sk-container-id-5 div.sk-parallel-item {\n",
       "  display: flex;\n",
       "  flex-direction: column;\n",
       "}\n",
       "\n",
       "#sk-container-id-5 div.sk-parallel-item:first-child::after {\n",
       "  align-self: flex-end;\n",
       "  width: 50%;\n",
       "}\n",
       "\n",
       "#sk-container-id-5 div.sk-parallel-item:last-child::after {\n",
       "  align-self: flex-start;\n",
       "  width: 50%;\n",
       "}\n",
       "\n",
       "#sk-container-id-5 div.sk-parallel-item:only-child::after {\n",
       "  width: 0;\n",
       "}\n",
       "\n",
       "/* Serial-specific style estimator block */\n",
       "\n",
       "#sk-container-id-5 div.sk-serial {\n",
       "  display: flex;\n",
       "  flex-direction: column;\n",
       "  align-items: center;\n",
       "  background-color: var(--sklearn-color-background);\n",
       "  padding-right: 1em;\n",
       "  padding-left: 1em;\n",
       "}\n",
       "\n",
       "\n",
       "/* Toggleable style: style used for estimator/Pipeline/ColumnTransformer box that is\n",
       "clickable and can be expanded/collapsed.\n",
       "- Pipeline and ColumnTransformer use this feature and define the default style\n",
       "- Estimators will overwrite some part of the style using the `sk-estimator` class\n",
       "*/\n",
       "\n",
       "/* Pipeline and ColumnTransformer style (default) */\n",
       "\n",
       "#sk-container-id-5 div.sk-toggleable {\n",
       "  /* Default theme specific background. It is overwritten whether we have a\n",
       "  specific estimator or a Pipeline/ColumnTransformer */\n",
       "  background-color: var(--sklearn-color-background);\n",
       "}\n",
       "\n",
       "/* Toggleable label */\n",
       "#sk-container-id-5 label.sk-toggleable__label {\n",
       "  cursor: pointer;\n",
       "  display: block;\n",
       "  width: 100%;\n",
       "  margin-bottom: 0;\n",
       "  padding: 0.5em;\n",
       "  box-sizing: border-box;\n",
       "  text-align: center;\n",
       "}\n",
       "\n",
       "#sk-container-id-5 label.sk-toggleable__label-arrow:before {\n",
       "  /* Arrow on the left of the label */\n",
       "  content: \"▸\";\n",
       "  float: left;\n",
       "  margin-right: 0.25em;\n",
       "  color: var(--sklearn-color-icon);\n",
       "}\n",
       "\n",
       "#sk-container-id-5 label.sk-toggleable__label-arrow:hover:before {\n",
       "  color: var(--sklearn-color-text);\n",
       "}\n",
       "\n",
       "/* Toggleable content - dropdown */\n",
       "\n",
       "#sk-container-id-5 div.sk-toggleable__content {\n",
       "  max-height: 0;\n",
       "  max-width: 0;\n",
       "  overflow: hidden;\n",
       "  text-align: left;\n",
       "  /* unfitted */\n",
       "  background-color: var(--sklearn-color-unfitted-level-0);\n",
       "}\n",
       "\n",
       "#sk-container-id-5 div.sk-toggleable__content.fitted {\n",
       "  /* fitted */\n",
       "  background-color: var(--sklearn-color-fitted-level-0);\n",
       "}\n",
       "\n",
       "#sk-container-id-5 div.sk-toggleable__content pre {\n",
       "  margin: 0.2em;\n",
       "  border-radius: 0.25em;\n",
       "  color: var(--sklearn-color-text);\n",
       "  /* unfitted */\n",
       "  background-color: var(--sklearn-color-unfitted-level-0);\n",
       "}\n",
       "\n",
       "#sk-container-id-5 div.sk-toggleable__content.fitted pre {\n",
       "  /* unfitted */\n",
       "  background-color: var(--sklearn-color-fitted-level-0);\n",
       "}\n",
       "\n",
       "#sk-container-id-5 input.sk-toggleable__control:checked~div.sk-toggleable__content {\n",
       "  /* Expand drop-down */\n",
       "  max-height: 200px;\n",
       "  max-width: 100%;\n",
       "  overflow: auto;\n",
       "}\n",
       "\n",
       "#sk-container-id-5 input.sk-toggleable__control:checked~label.sk-toggleable__label-arrow:before {\n",
       "  content: \"▾\";\n",
       "}\n",
       "\n",
       "/* Pipeline/ColumnTransformer-specific style */\n",
       "\n",
       "#sk-container-id-5 div.sk-label input.sk-toggleable__control:checked~label.sk-toggleable__label {\n",
       "  color: var(--sklearn-color-text);\n",
       "  background-color: var(--sklearn-color-unfitted-level-2);\n",
       "}\n",
       "\n",
       "#sk-container-id-5 div.sk-label.fitted input.sk-toggleable__control:checked~label.sk-toggleable__label {\n",
       "  background-color: var(--sklearn-color-fitted-level-2);\n",
       "}\n",
       "\n",
       "/* Estimator-specific style */\n",
       "\n",
       "/* Colorize estimator box */\n",
       "#sk-container-id-5 div.sk-estimator input.sk-toggleable__control:checked~label.sk-toggleable__label {\n",
       "  /* unfitted */\n",
       "  background-color: var(--sklearn-color-unfitted-level-2);\n",
       "}\n",
       "\n",
       "#sk-container-id-5 div.sk-estimator.fitted input.sk-toggleable__control:checked~label.sk-toggleable__label {\n",
       "  /* fitted */\n",
       "  background-color: var(--sklearn-color-fitted-level-2);\n",
       "}\n",
       "\n",
       "#sk-container-id-5 div.sk-label label.sk-toggleable__label,\n",
       "#sk-container-id-5 div.sk-label label {\n",
       "  /* The background is the default theme color */\n",
       "  color: var(--sklearn-color-text-on-default-background);\n",
       "}\n",
       "\n",
       "/* On hover, darken the color of the background */\n",
       "#sk-container-id-5 div.sk-label:hover label.sk-toggleable__label {\n",
       "  color: var(--sklearn-color-text);\n",
       "  background-color: var(--sklearn-color-unfitted-level-2);\n",
       "}\n",
       "\n",
       "/* Label box, darken color on hover, fitted */\n",
       "#sk-container-id-5 div.sk-label.fitted:hover label.sk-toggleable__label.fitted {\n",
       "  color: var(--sklearn-color-text);\n",
       "  background-color: var(--sklearn-color-fitted-level-2);\n",
       "}\n",
       "\n",
       "/* Estimator label */\n",
       "\n",
       "#sk-container-id-5 div.sk-label label {\n",
       "  font-family: monospace;\n",
       "  font-weight: bold;\n",
       "  display: inline-block;\n",
       "  line-height: 1.2em;\n",
       "}\n",
       "\n",
       "#sk-container-id-5 div.sk-label-container {\n",
       "  text-align: center;\n",
       "}\n",
       "\n",
       "/* Estimator-specific */\n",
       "#sk-container-id-5 div.sk-estimator {\n",
       "  font-family: monospace;\n",
       "  border: 1px dotted var(--sklearn-color-border-box);\n",
       "  border-radius: 0.25em;\n",
       "  box-sizing: border-box;\n",
       "  margin-bottom: 0.5em;\n",
       "  /* unfitted */\n",
       "  background-color: var(--sklearn-color-unfitted-level-0);\n",
       "}\n",
       "\n",
       "#sk-container-id-5 div.sk-estimator.fitted {\n",
       "  /* fitted */\n",
       "  background-color: var(--sklearn-color-fitted-level-0);\n",
       "}\n",
       "\n",
       "/* on hover */\n",
       "#sk-container-id-5 div.sk-estimator:hover {\n",
       "  /* unfitted */\n",
       "  background-color: var(--sklearn-color-unfitted-level-2);\n",
       "}\n",
       "\n",
       "#sk-container-id-5 div.sk-estimator.fitted:hover {\n",
       "  /* fitted */\n",
       "  background-color: var(--sklearn-color-fitted-level-2);\n",
       "}\n",
       "\n",
       "/* Specification for estimator info (e.g. \"i\" and \"?\") */\n",
       "\n",
       "/* Common style for \"i\" and \"?\" */\n",
       "\n",
       ".sk-estimator-doc-link,\n",
       "a:link.sk-estimator-doc-link,\n",
       "a:visited.sk-estimator-doc-link {\n",
       "  float: right;\n",
       "  font-size: smaller;\n",
       "  line-height: 1em;\n",
       "  font-family: monospace;\n",
       "  background-color: var(--sklearn-color-background);\n",
       "  border-radius: 1em;\n",
       "  height: 1em;\n",
       "  width: 1em;\n",
       "  text-decoration: none !important;\n",
       "  margin-left: 1ex;\n",
       "  /* unfitted */\n",
       "  border: var(--sklearn-color-unfitted-level-1) 1pt solid;\n",
       "  color: var(--sklearn-color-unfitted-level-1);\n",
       "}\n",
       "\n",
       ".sk-estimator-doc-link.fitted,\n",
       "a:link.sk-estimator-doc-link.fitted,\n",
       "a:visited.sk-estimator-doc-link.fitted {\n",
       "  /* fitted */\n",
       "  border: var(--sklearn-color-fitted-level-1) 1pt solid;\n",
       "  color: var(--sklearn-color-fitted-level-1);\n",
       "}\n",
       "\n",
       "/* On hover */\n",
       "div.sk-estimator:hover .sk-estimator-doc-link:hover,\n",
       ".sk-estimator-doc-link:hover,\n",
       "div.sk-label-container:hover .sk-estimator-doc-link:hover,\n",
       ".sk-estimator-doc-link:hover {\n",
       "  /* unfitted */\n",
       "  background-color: var(--sklearn-color-unfitted-level-3);\n",
       "  color: var(--sklearn-color-background);\n",
       "  text-decoration: none;\n",
       "}\n",
       "\n",
       "div.sk-estimator.fitted:hover .sk-estimator-doc-link.fitted:hover,\n",
       ".sk-estimator-doc-link.fitted:hover,\n",
       "div.sk-label-container:hover .sk-estimator-doc-link.fitted:hover,\n",
       ".sk-estimator-doc-link.fitted:hover {\n",
       "  /* fitted */\n",
       "  background-color: var(--sklearn-color-fitted-level-3);\n",
       "  color: var(--sklearn-color-background);\n",
       "  text-decoration: none;\n",
       "}\n",
       "\n",
       "/* Span, style for the box shown on hovering the info icon */\n",
       ".sk-estimator-doc-link span {\n",
       "  display: none;\n",
       "  z-index: 9999;\n",
       "  position: relative;\n",
       "  font-weight: normal;\n",
       "  right: .2ex;\n",
       "  padding: .5ex;\n",
       "  margin: .5ex;\n",
       "  width: min-content;\n",
       "  min-width: 20ex;\n",
       "  max-width: 50ex;\n",
       "  color: var(--sklearn-color-text);\n",
       "  box-shadow: 2pt 2pt 4pt #999;\n",
       "  /* unfitted */\n",
       "  background: var(--sklearn-color-unfitted-level-0);\n",
       "  border: .5pt solid var(--sklearn-color-unfitted-level-3);\n",
       "}\n",
       "\n",
       ".sk-estimator-doc-link.fitted span {\n",
       "  /* fitted */\n",
       "  background: var(--sklearn-color-fitted-level-0);\n",
       "  border: var(--sklearn-color-fitted-level-3);\n",
       "}\n",
       "\n",
       ".sk-estimator-doc-link:hover span {\n",
       "  display: block;\n",
       "}\n",
       "\n",
       "/* \"?\"-specific style due to the `<a>` HTML tag */\n",
       "\n",
       "#sk-container-id-5 a.estimator_doc_link {\n",
       "  float: right;\n",
       "  font-size: 1rem;\n",
       "  line-height: 1em;\n",
       "  font-family: monospace;\n",
       "  background-color: var(--sklearn-color-background);\n",
       "  border-radius: 1rem;\n",
       "  height: 1rem;\n",
       "  width: 1rem;\n",
       "  text-decoration: none;\n",
       "  /* unfitted */\n",
       "  color: var(--sklearn-color-unfitted-level-1);\n",
       "  border: var(--sklearn-color-unfitted-level-1) 1pt solid;\n",
       "}\n",
       "\n",
       "#sk-container-id-5 a.estimator_doc_link.fitted {\n",
       "  /* fitted */\n",
       "  border: var(--sklearn-color-fitted-level-1) 1pt solid;\n",
       "  color: var(--sklearn-color-fitted-level-1);\n",
       "}\n",
       "\n",
       "/* On hover */\n",
       "#sk-container-id-5 a.estimator_doc_link:hover {\n",
       "  /* unfitted */\n",
       "  background-color: var(--sklearn-color-unfitted-level-3);\n",
       "  color: var(--sklearn-color-background);\n",
       "  text-decoration: none;\n",
       "}\n",
       "\n",
       "#sk-container-id-5 a.estimator_doc_link.fitted:hover {\n",
       "  /* fitted */\n",
       "  background-color: var(--sklearn-color-fitted-level-3);\n",
       "}\n",
       "</style><div id=\"sk-container-id-5\" class=\"sk-top-container\"><div class=\"sk-text-repr-fallback\"><pre>DecisionTreeClassifier()</pre><b>In a Jupyter environment, please rerun this cell to show the HTML representation or trust the notebook. <br />On GitHub, the HTML representation is unable to render, please try loading this page with nbviewer.org.</b></div><div class=\"sk-container\" hidden><div class=\"sk-item\"><div class=\"sk-estimator fitted sk-toggleable\"><input class=\"sk-toggleable__control sk-hidden--visually\" id=\"sk-estimator-id-5\" type=\"checkbox\" checked><label for=\"sk-estimator-id-5\" class=\"sk-toggleable__label fitted sk-toggleable__label-arrow fitted\">&nbsp;&nbsp;DecisionTreeClassifier<a class=\"sk-estimator-doc-link fitted\" rel=\"noreferrer\" target=\"_blank\" href=\"https://scikit-learn.org/1.5/modules/generated/sklearn.tree.DecisionTreeClassifier.html\">?<span>Documentation for DecisionTreeClassifier</span></a><span class=\"sk-estimator-doc-link fitted\">i<span>Fitted</span></span></label><div class=\"sk-toggleable__content fitted\"><pre>DecisionTreeClassifier()</pre></div> </div></div></div></div>"
      ],
      "text/plain": [
       "DecisionTreeClassifier()"
      ]
     },
     "execution_count": 76,
     "metadata": {},
     "output_type": "execute_result"
    }
   ],
   "source": [
    "tree.fit(X_train, y_train)"
   ]
  },
  {
   "cell_type": "markdown",
   "metadata": {},
   "source": [
    "## AVALIAÇÃO DE MODELO"
   ]
  },
  {
   "cell_type": "markdown",
   "metadata": {},
   "source": [
    "### PREVENDO VALORES"
   ]
  },
  {
   "cell_type": "code",
   "execution_count": 77,
   "metadata": {},
   "outputs": [],
   "source": [
    "tree_pred = tree.predict(X_test)"
   ]
  },
  {
   "cell_type": "markdown",
   "metadata": {},
   "source": [
    "### AVALIAÇÃO"
   ]
  },
  {
   "cell_type": "code",
   "execution_count": 78,
   "metadata": {},
   "outputs": [
    {
     "name": "stdout",
     "output_type": "stream",
     "text": [
      "              precision    recall  f1-score   support\n",
      "\n",
      "           0       0.90      0.97      0.94        39\n",
      "           1       0.88      0.70      0.78        10\n",
      "           2       1.00      0.94      0.97        18\n",
      "\n",
      "    accuracy                           0.93        67\n",
      "   macro avg       0.93      0.87      0.90        67\n",
      "weighted avg       0.93      0.93      0.92        67\n",
      "\n"
     ]
    }
   ],
   "source": [
    "tree_ava = classification_report(y_test, tree_pred)\n",
    "print(tree_ava)"
   ]
  },
  {
   "cell_type": "markdown",
   "metadata": {},
   "source": [
    "### ANALISANDO A ACURÁCIA POR MEIO DE GRÁFICOS"
   ]
  },
  {
   "cell_type": "code",
   "execution_count": 79,
   "metadata": {},
   "outputs": [
    {
     "name": "stdout",
     "output_type": "stream",
     "text": [
      "Pontuação de treinamento do modelo: 0.9253731343283582\n"
     ]
    },
    {
     "data": {
      "image/png": "[encoded data removed]",
      "text/plain": [
       "<Figure size 800x400 with 1 Axes>"
      ]
     },
     "metadata": {},
     "output_type": "display_data"
    }
   ],
   "source": [
    "# prevendo valores\n",
    "tree_predict = tree.predict(X_test)         \n",
    "\n",
    "# avaliação\n",
    "tree_score = accuracy_score(y_test, tree_predict)\n",
    "\n",
    "print(f\"Pontuação de treinamento do modelo: {tree_score}\")\n",
    "\n",
    "# gráfico\n",
    "plt.figure(figsize = (8,4))\n",
    "plt.title(\"Model accuracy\")\n",
    "plt.bar(x = [0], height = [tree_score], color = \"blue\")\n",
    "plt.xticks([0], [\"Tree\"])\n",
    "plt.ylim(0.8,1.05)\n",
    "plt.ylabel(\"Accuracy\")\n",
    "plt.xlabel(\"Model\")\n",
    "plt.grid()\n",
    "plt.show()"
   ]
  },
  {
   "cell_type": "markdown",
   "metadata": {},
   "source": [
    "## TESTANDO O MODELO"
   ]
  },
  {
   "cell_type": "markdown",
   "metadata": {},
   "source": [
    "### FAZENDO A ENTRADA DE DADOS PARA O TESTE"
   ]
  },
  {
   "cell_type": "code",
   "execution_count": 80,
   "metadata": {},
   "outputs": [
    {
     "name": "stdout",
     "output_type": "stream",
     "text": [
      "\n",
      "Parâmetros:\n",
      "Ilha: Biscoe\n",
      "Sexo: F\n",
      "Comprimento do culmen (mm): 132123.0\n",
      "Profundidade do culmen (mm): 3213213.0\n",
      "Comprimento da nadadeira (mm): 3213123.0\n",
      "Massa corporal (g): 123123.0\n"
     ]
    }
   ],
   "source": [
    "# Solicitação de entrada dos parâmetros\n",
    "island = input(\"Digite o nome da ilha: \")\n",
    "sex = input(\"Digite o sexo (M ou F): \")\n",
    "culmen_length_mm = float(input(\"Digite o comprimento do culmen em milímetros: \"))\n",
    "culmen_depth_mm = float(input(\"Digite a profundidade do culmen em milímetros: \"))\n",
    "flipper_length_mm = float(input(\"Digite o comprimento da nadadeira em milímetros: \"))\n",
    "body_mass_g = float(input(\"Digite a massa corporal em gramas: \"))\n",
    "\n",
    "# Exibição dos parâmetros digitados\n",
    "print(\"\\nParâmetros:\")\n",
    "print(\"Ilha:\", island)\n",
    "print(\"Sexo:\", sex)\n",
    "print(\"Comprimento do culmen (mm):\", culmen_length_mm)\n",
    "print(\"Profundidade do culmen (mm):\", culmen_depth_mm)\n",
    "print(\"Comprimento da nadadeira (mm):\", flipper_length_mm)\n",
    "print(\"Massa corporal (g):\", body_mass_g)\n"
   ]
  },
  {
   "cell_type": "markdown",
   "metadata": {},
   "source": [
    "### RELIZANDO A CLASSIFICAÇÃO"
   ]
  },
  {
   "cell_type": "code",
   "execution_count": 81,
   "metadata": {},
   "outputs": [
    {
     "name": "stdout",
     "output_type": "stream",
     "text": [
      "Resultado da classificação: Gentoo\n"
     ]
    },
    {
     "name": "stderr",
     "output_type": "stream",
     "text": [
      "c:\\Users\\oGabriel\\Desktop\\P7\\AG2\\.venv\\Lib\\site-packages\\sklearn\\base.py:493: UserWarning: X does not have valid feature names, but DecisionTreeClassifier was fitted with feature names\n",
      "  warnings.warn(\n"
     ]
    }
   ],
   "source": [
    "# Ajustando entradas no formato do modelo\n",
    "island_mapping = {\"Biscoe\": 0, \"Dream\": 1, \"Torgersen\": 0}\n",
    "sex_mapping = {\"F\": 0, \"M\": 1}\n",
    "specie_mapping = {0: \"Adelie\", 1: \"Chinstrap\", 2: \"Gentoo\"}\n",
    "\n",
    "island = island_mapping.get(island, None)\n",
    "sex = sex_mapping.get(sex, None)\n",
    "\n",
    "if island is None:\n",
    "    print(\"Ilha não reconhecida!\")\n",
    "if sex is None:\n",
    "    print(\"Sexo não reconhecido!\")\n",
    "   \n",
    "# Agrupando os dados fornecidos em uma variável \n",
    "dados = [[island, sex, culmen_length_mm, culmen_depth_mm, flipper_length_mm, body_mass_g]]\n",
    "\n",
    "# Usando o modelo de classificador para fazer a classificação\n",
    "output = tree.predict(dados)\n",
    "output_specie = specie_mapping.get(output[0], None)\n",
    "\n",
    "# Exibindo o output da classificação\n",
    "print(f\"Resultado da classificação: {output_specie}\")"
   ]
  }
 ],
 "metadata": {
  "kernelspec": {
   "display_name": "AG2",
   "language": "python",
   "name": "python3"
  },
  "language_info": {
   "codemirror_mode": {
    "name": "ipython",
    "version": 3
   },
   "file_extension": ".py",
   "mimetype": "text/x-python",
   "name": "python",
   "nbconvert_exporter": "python",
   "pygments_lexer": "ipython3",
   "version": "3.9.19"
  }
 },
 "nbformat": 4,
 "nbformat_minor": 2
}
